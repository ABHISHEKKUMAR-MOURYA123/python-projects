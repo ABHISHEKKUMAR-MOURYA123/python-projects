{
 "cells": [
  {
   "cell_type": "code",
   "execution_count": 1,
   "id": "74bbf6ec-ae83-49ad-973e-0e56581c398a",
   "metadata": {},
   "outputs": [],
   "source": [
    "def get_age():\n",
    "    age = int(input(\"What's your age? \"))\n",
    "    return age\n"
   ]
  },
  {
   "cell_type": "code",
   "execution_count": 3,
   "id": "bf52c6d4-8e83-4e6d-bb13-93d04351f0bf",
   "metadata": {},
   "outputs": [],
   "source": [
    "def get_time_unit():\n",
    "   \n",
    "    unit = input(\"Please choose time unit (Months, Weeks, Days, Hours, Minutes, Seconds): \")\n",
    "    return unit\n"
   ]
  },
  {
   "cell_type": "code",
   "execution_count": 5,
   "id": "9bc3301e-e810-4b2f-8ce9-5e87932e2af2",
   "metadata": {},
   "outputs": [],
   "source": [
    "def calculate_duration(age, unit):\n",
    "    months_per_year = 12\n",
    "    weeks_per_year = 52\n",
    "    days_per_year = 365\n",
    "    hours_per_day = 24\n",
    "    minutes_per_hour = 60\n",
    "    seconds_per_minute = 60\n",
    "\n",
    "    if unit.lower() in ['months', 'm']:\n",
    "        return age * months_per_year\n",
    "    elif unit.lower() in ['weeks', 'w']:\n",
    "        return age * weeks_per_year\n",
    "    elif unit.lower() in ['days', 'd']:\n",
    "        return age * days_per_year\n",
    "    elif unit.lower() in ['hours', 'h']:\n",
    "        return age * days_per_year * hours_per_day\n",
    "    elif unit.lower() in ['minutes', 'min']:\n",
    "        return age * days_per_year * hours_per_day * minutes_per_hour\n",
    "    elif unit.lower() in ['seconds', 's']:\n",
    "        return age * days_per_year * hours_per_day * minutes_per_hour * seconds_per_minute\n",
    "    else:\n",
    "        return None  \n"
   ]
  },
  {
   "cell_type": "code",
   "execution_count": 7,
   "id": "18938fa4-98fc-4f0e-b441-022f7b9a3bc7",
   "metadata": {},
   "outputs": [],
   "source": [
    "def display_result(duration, unit):\n",
    "    if duration is not None:\n",
    "        print(f\"You lived for {duration} {unit}.\")\n",
    "    else:\n",
    "        print(\"Invalid time unit selected. Please try again.\")\n"
   ]
  },
  {
   "cell_type": "code",
   "execution_count": null,
   "id": "6f86a4d3-96aa-4f3a-9ca0-20f787a57f02",
   "metadata": {},
   "outputs": [],
   "source": [
    "def main():\n",
    "    age = get_age()  \n",
    "    unit = get_time_unit()  \n",
    "    duration = calculate_duration(age, unit)  \n",
    "    display_result(duration, unit)  \n",
    "\n",
    "if __name__ == \"__main__\":\n",
    "    main()  \n"
   ]
  },
  {
   "cell_type": "code",
   "execution_count": null,
   "id": "c189c823-8b8f-4a5c-bcf1-054ec8402caa",
   "metadata": {},
   "outputs": [],
   "source": []
  }
 ],
 "metadata": {
  "kernelspec": {
   "display_name": "Python 3 (ipykernel)",
   "language": "python",
   "name": "python3"
  },
  "language_info": {
   "codemirror_mode": {
    "name": "ipython",
    "version": 3
   },
   "file_extension": ".py",
   "mimetype": "text/x-python",
   "name": "python",
   "nbconvert_exporter": "python",
   "pygments_lexer": "ipython3",
   "version": "3.12.4"
  }
 },
 "nbformat": 4,
 "nbformat_minor": 5
}
